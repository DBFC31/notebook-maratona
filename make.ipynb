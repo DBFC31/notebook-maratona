{
 "cells": [
  {
   "cell_type": "code",
   "execution_count": 16,
   "id": "896db14c",
   "metadata": {},
   "outputs": [
    {
     "name": "stderr",
     "output_type": "stream",
     "text": [
      "[WARNING] Could not fetch resource style/base.css\n",
      "\n"
     ]
    },
    {
     "name": "stdout",
     "output_type": "stream",
     "text": [
      "HTML conversion successful!\n"
     ]
    },
    {
     "name": "stderr",
     "output_type": "stream",
     "text": [
      "[WARNING] Loading page (1/2)\n",
      "Printing pages (2/2)                                               \n",
      "Done                                                           \n",
      "\n"
     ]
    },
    {
     "name": "stdout",
     "output_type": "stream",
     "text": [
      "PDF conversion successful!\n",
      "Intermediate HTML file removed.\n"
     ]
    }
   ],
   "source": [
    "import os\n",
    "import pypandoc\n",
    "notebook = \"notebook.md\"\n",
    "text = \"# Notebook de Maratona\\n\"\n",
    "\n",
    "# Diretório atual\n",
    "current_dir = os.getcwd()\n",
    "\n",
    "# Listar arquivos que terminam com .cpp\n",
    "cpp_files = [f for f in os.listdir(current_dir) if f.endswith('.cpp')]\n",
    "\n",
    "for file in cpp_files:\n",
    "    text += f\"\\n## {file.split('.')[0]}\\n\\n\"\n",
    "    text += f\"```cpp\\n\"\n",
    "    with open(file, 'r') as f:\n",
    "        lines = f.readlines()[2:]  # Ignorar cabecalho\n",
    "        text += ''.join(lines)\n",
    "    text += f\"\\n```\\n\\n\"\n",
    "    text += '<div style=\"page-break-after: always;\"></div>\\n'\n",
    "\n",
    "file = \"formulas.md\"\n",
    "with open(file, 'r') as f:\n",
    "    text += f.read()\n",
    "\n",
    "with open(notebook, 'w') as f:\n",
    "    f.write(text)\n",
    "\n",
    "\n",
    "# Check if the specified files exist\n",
    "css_path = \"style/adwaita.css\"\n",
    "lua_path = \"style/relative_to_absolute.lua\"\n",
    "\n",
    "# Use a simpler approach with proper argument formatting\n",
    "args = [\"--embed-resources\",\n",
    "        \"--standalone\",\n",
    "        \"-s\", \"--webtex\",\n",
    "        \"--metadata\", \"title=Notebook\",\n",
    "        \"--wrap=none\"]\n",
    "\n",
    "# Add CSS and Lua filter only if they exist\n",
    "if os.path.exists(css_path):\n",
    "    args.extend([\"--css\", css_path])\n",
    "if os.path.exists(lua_path):\n",
    "    args.extend([\"--lua-filter\", lua_path])\n",
    "\n",
    "try:\n",
    "    output = pypandoc.convert_text(text, \"html5\", \"markdown\", extra_args=args, outputfile=\"notebook.html\")\n",
    "    print(\"HTML conversion successful!\")\n",
    "except Exception as e:\n",
    "    print(f\"Error during conversion: {e}\")\n",
    "# Convert the notebook.html to PDF\n",
    "try:\n",
    "    output = pypandoc.convert_file(\"notebook.html\", \"pdf\", extra_args=[\"--pdf-engine=wkhtmltopdf\", \"--standalone\"], outputfile=\"notebook.pdf\")\n",
    "    print(\"PDF conversion successful!\")\n",
    "except Exception as e:\n",
    "    print(f\"Error during PDF conversion: {e}\")\n",
    "# Clean up the intermediate HTML file\n",
    "try:\n",
    "    os.remove(\"notebook.html\")\n",
    "    print(\"Intermediate HTML file removed.\")\n",
    "except Exception as e:  \n",
    "    print(f\"Error removing intermediate HTML file: {e}\")"
   ]
  }
 ],
 "metadata": {
  "kernelspec": {
   "display_name": ".venv",
   "language": "python",
   "name": "python3"
  },
  "language_info": {
   "codemirror_mode": {
    "name": "ipython",
    "version": 3
   },
   "file_extension": ".py",
   "mimetype": "text/x-python",
   "name": "python",
   "nbconvert_exporter": "python",
   "pygments_lexer": "ipython3",
   "version": "3.12.3"
  }
 },
 "nbformat": 4,
 "nbformat_minor": 5
}
