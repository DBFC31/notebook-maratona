{
 "cells": [
  {
   "cell_type": "code",
   "execution_count": 3,
   "id": "896db14c",
   "metadata": {},
   "outputs": [],
   "source": [
    "notebook = \"notebook.md\"\n",
    "text = \"# Notebook de Maratona\\n\"\n",
    "import os\n",
    "\n",
    "# Diretório atual\n",
    "current_dir = os.getcwd()\n",
    "\n",
    "# Listar arquivos que terminam com .cpp\n",
    "cpp_files = [f for f in os.listdir(current_dir) if f.endswith('.cpp')]\n",
    "\n",
    "for file in cpp_files:\n",
    "    text += f\"\\n## {file.split('.')[0]}\\n\\n\"\n",
    "    text += f\"```cpp\\n\"\n",
    "    with open(file, 'r') as f:\n",
    "        lines = f.readlines()[2:]  # Ignorar cabecalho\n",
    "        text += ''.join(lines)\n",
    "    text += f\"```\\n\"\n",
    "    text += '<div style=\"page-break-after: always;\"></div>\\n'\n",
    "\n",
    "with open(notebook, 'w') as f:\n",
    "    f.write(text)"
   ]
  }
 ],
 "metadata": {
  "kernelspec": {
   "display_name": ".venv",
   "language": "python",
   "name": "python3"
  },
  "language_info": {
   "codemirror_mode": {
    "name": "ipython",
    "version": 3
   },
   "file_extension": ".py",
   "mimetype": "text/x-python",
   "name": "python",
   "nbconvert_exporter": "python",
   "pygments_lexer": "ipython3",
   "version": "3.12.3"
  }
 },
 "nbformat": 4,
 "nbformat_minor": 5
}
